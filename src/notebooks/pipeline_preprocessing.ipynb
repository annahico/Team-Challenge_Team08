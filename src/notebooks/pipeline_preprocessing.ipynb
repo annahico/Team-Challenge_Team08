{
 "cells": [
  {
   "cell_type": "markdown",
   "metadata": {},
   "source": [
    "# Preprocesamiento de Datos - Pipeline I  \n",
    "Este notebook carga los datos de Ames Housing, aplica transformaciones necesarias y guarda el preprocesador para ser utilizado en Pipeline II."
   ]
  },
  {
   "cell_type": "code",
   "execution_count": 4,
   "metadata": {},
   "outputs": [],
   "source": [
    "import os\n",
    "import pandas as pd\n",
    "import numpy as np\n",
    "import joblib\n",
    "from sklearn.pipeline import Pipeline\n",
    "from sklearn.compose import ColumnTransformer\n",
    "from sklearn.preprocessing import OneHotEncoder, StandardScaler\n",
    "from sklearn.impute import SimpleImputer"
   ]
  },
  {
   "cell_type": "code",
   "execution_count": 5,
   "metadata": {},
   "outputs": [],
   "source": [
    "# 📂 Definir ruta relativa a los datos\n",
    "DATA_PATH = os.path.join(\"..\", \"data\", \"AmesHousing_train.csv\")"
   ]
  },
  {
   "cell_type": "code",
   "execution_count": 6,
   "metadata": {},
   "outputs": [],
   "source": [
    "# Cargar datos\n",
    "df = pd.read_csv(DATA_PATH)"
   ]
  },
  {
   "cell_type": "code",
   "execution_count": 7,
   "metadata": {},
   "outputs": [],
   "source": [
    "# Separar features y target\n",
    "X = df.drop(columns=[\"SalePrice\"])  # Variables predictoras\n",
    "y = df[\"SalePrice\"]  # Variable objetivo"
   ]
  },
  {
   "cell_type": "code",
   "execution_count": 8,
   "metadata": {},
   "outputs": [],
   "source": [
    "# Identificar tipos de variables\n",
    "num_features = X.select_dtypes(include=[\"int64\", \"float64\"]).columns\n",
    "cat_features = X.select_dtypes(include=[\"object\"]).columns"
   ]
  },
  {
   "cell_type": "code",
   "execution_count": 9,
   "metadata": {},
   "outputs": [],
   "source": [
    "# 1️⃣ Preprocesamiento de variables numéricas\n",
    "num_transformer = Pipeline(steps=[\n",
    "    (\"imputer\", SimpleImputer(strategy=\"median\")),  # Rellena valores nulos con la mediana\n",
    "    (\"scaler\", StandardScaler())  # Normalización/Estandarización\n",
    "])"
   ]
  },
  {
   "cell_type": "code",
   "execution_count": 10,
   "metadata": {},
   "outputs": [],
   "source": [
    "# 2️⃣ Preprocesamiento de variables categóricas\n",
    "cat_transformer = Pipeline(steps=[\n",
    "    (\"imputer\", SimpleImputer(strategy=\"most_frequent\")),  # Rellena valores nulos con el más frecuente\n",
    "    (\"onehot\", OneHotEncoder(handle_unknown=\"ignore\"))  # Evita errores con nuevas categorías\n",
    "])"
   ]
  },
  {
   "cell_type": "code",
   "execution_count": 11,
   "metadata": {},
   "outputs": [],
   "source": [
    "# 3️⃣ Combinar transformadores en un ColumnTransformer\n",
    "preprocessor = ColumnTransformer(transformers=[\n",
    "    (\"num\", num_transformer, num_features),\n",
    "    (\"cat\", cat_transformer, cat_features)\n",
    "])"
   ]
  },
  {
   "cell_type": "code",
   "execution_count": 12,
   "metadata": {},
   "outputs": [
    {
     "name": "stdout",
     "output_type": "stream",
     "text": [
      "✅ Preprocesador guardado en ..\\models\\preprocessor.pkl\n"
     ]
    }
   ],
   "source": [
    "# 4️⃣ Guardar preprocesador para uso en Pipeline II\n",
    "PREPROCESSOR_PATH = os.path.join(\"..\", \"models\", \"preprocessor.pkl\")\n",
    "joblib.dump(preprocessor, PREPROCESSOR_PATH)\n",
    "\n",
    "print(f\"✅ Preprocesador guardado en {PREPROCESSOR_PATH}\")"
   ]
  },
  {
   "cell_type": "code",
   "execution_count": 13,
   "metadata": {},
   "outputs": [
    {
     "name": "stdout",
     "output_type": "stream",
     "text": [
      "✅ Preprocesador probado con éxito. Dimensión de salida: (2197, 305)\n"
     ]
    }
   ],
   "source": [
    "# Prueba el preprocesador con una muestra de datos\n",
    "X_transformed = preprocessor.fit_transform(X)\n",
    "\n",
    "print(f\"✅ Preprocesador probado con éxito. Dimensión de salida: {X_transformed.shape}\")"
   ]
  }
 ],
 "metadata": {
  "kernelspec": {
   "display_name": "Python 3",
   "language": "python",
   "name": "python3"
  },
  "language_info": {
   "codemirror_mode": {
    "name": "ipython",
    "version": 3
   },
   "file_extension": ".py",
   "mimetype": "text/x-python",
   "name": "python",
   "nbconvert_exporter": "python",
   "pygments_lexer": "ipython3",
   "version": "3.12.7"
  }
 },
 "nbformat": 4,
 "nbformat_minor": 2
}
