{
 "cells": [
  {
   "cell_type": "code",
   "execution_count": 46,
   "metadata": {},
   "outputs": [
    {
     "name": "stdout",
     "output_type": "stream",
     "text": [
      "Modelo cargado correctamente.\n",
      "Predicción de prueba del modelo cargado: [0 0 0 1 0]\n"
     ]
    }
   ],
   "source": [
    "import Turing_Pipelines_I  # Importa todo el código del notebook convertido en script\n",
    "import os\n",
    "import joblib\n",
    "\n",
    "# Acceder a las variables del módulo importado\n",
    "X_train = Turing_Pipelines_I.X_train  # Obtener los datos originales de entrenamiento\n",
    "y_train = Turing_Pipelines_I.y_train  # Obtener las etiquetas de entrenamiento\n",
    "preprocessor = Turing_Pipelines_I.preprocessor  # Obtener el preprocesador\n",
    "model_path = Turing_Pipelines_I.model_path  # Obtener la ruta del modelo guardado\n",
    "\n",
    "# Verificar si el modelo existe antes de cargarlo\n",
    "if os.path.exists(model_path):\n",
    "    loaded_model = joblib.load(model_path)\n",
    "    print(\"Modelo cargado correctamente.\")\n",
    "else:\n",
    "    raise FileNotFoundError(f\"Error: El modelo no existe en {model_path}\")\n",
    "\n",
    "# Preprocesar los datos si no están preprocesados\n",
    "if \"X_train_preprocessed\" in dir(Turing_Pipelines_I):\n",
    "    X_train_preprocessed = Turing_Pipelines_I.X_train_preprocessed\n",
    "else:\n",
    "    X_train_preprocessed = preprocessor.transform(X_train)  # Aplicar el preprocesador\n",
    "\n",
    "# Verificar si el modelo cargado es un Pipeline y acceder al clasificador si es necesario\n",
    "if hasattr(loaded_model, \"named_steps\") and \"classifier\" in loaded_model.named_steps:\n",
    "    real_model = loaded_model.named_steps[\"classifier\"]\n",
    "else:\n",
    "    real_model = loaded_model  # Si no es un Pipeline, usar el modelo directamente\n",
    "\n",
    "# Verificar si el modelo está entrenado\n",
    "if not hasattr(real_model, \"classes_\"):  # Verifica si el modelo tiene clases entrenadas\n",
    "    print(\"El modelo no está entrenado. Reentrenando...\")\n",
    "    pipeline = Turing_Pipelines_I.pipeline  # Asegúrate de que el pipeline esté disponible\n",
    "    pipeline.fit(X_train, y_train)\n",
    "    joblib.dump(pipeline, model_path)  # Guarda el modelo nuevamente\n",
    "    real_model = pipeline.named_steps[\"classifier\"]\n",
    "\n",
    "X_train_preprocessed = preprocessor.transform(X_train)  # Aplicar el preprocesador\n",
    "\n",
    "# Hacer una predicción con los datos de entrenamiento\n",
    "try:\n",
    "    sample_prediction = real_model.predict(X_train_preprocessed[:5])\n",
    "    print(f\"Predicción de prueba del modelo cargado: {sample_prediction}\")\n",
    "except Exception as e:\n",
    "    print(f\"Error al hacer la predicción: {e}\")"
   ]
  },
  {
   "cell_type": "code",
   "execution_count": 65,
   "metadata": {},
   "outputs": [
    {
     "name": "stdout",
     "output_type": "stream",
     "text": [
      "Conjunto de prueba cargado correctamente.\n",
      "Modelo cargado correctamente.\n",
      "Predicciones realizadas correctamente.\n",
      "Métricas de evaluación:\n",
      "              precision    recall  f1-score   support\n",
      "\n",
      "           0       0.95      0.98      0.97     18289\n",
      "           1       0.73      0.44      0.55      1711\n",
      "\n",
      "    accuracy                           0.94     20000\n",
      "   macro avg       0.84      0.71      0.76     20000\n",
      "weighted avg       0.93      0.94      0.93     20000\n",
      "\n",
      "Accuracy: 0.94\n"
     ]
    }
   ],
   "source": [
    "import pandas as pd\n",
    "from sklearn.metrics import classification_report, accuracy_score\n",
    "\n",
    "# Ruta al modelo guardado\n",
    "model_path = Turing_Pipelines_I.model_path\n",
    "target = Turing_Pipelines_I.target\n",
    "\n",
    "# Ruta al conjunto de prueba\n",
    "test_data_path = '../data/diabetes_test.csv'\n",
    "\n",
    "# Cargar el conjunto de prueba\n",
    "try:\n",
    "    test_data = pd.read_csv(test_data_path, sep='\\t')\n",
    "    print(\"Conjunto de prueba cargado correctamente.\")\n",
    "except FileNotFoundError:\n",
    "    raise FileNotFoundError(f\"Error: El archivo {test_data_path} no existe.\")\n",
    "\n",
    "# Separar características (X) y etiquetas (y) del conjunto de prueba\n",
    "X_test = test_data.drop(columns=[target])  # Reemplaza 'target' con el nombre de tu columna objetivo\n",
    "y_test = test_data[target]  # Reemplaza 'target' con el nombre de tu columna objetivo\n",
    "\n",
    "# Verificar si el modelo existe antes de cargarlo\n",
    "if os.path.exists(model_path):\n",
    "    loaded_pipeline = joblib.load(model_path)\n",
    "    print(\"Modelo cargado correctamente.\")\n",
    "else:\n",
    "    raise FileNotFoundError(f\"Error: El modelo no existe en {model_path}\")\n",
    "\n",
    "# Realizar predicciones sobre el conjunto de prueba\n",
    "try:\n",
    "    y_pred = loaded_pipeline.predict(X_test)\n",
    "    print(\"Predicciones realizadas correctamente.\")\n",
    "except Exception as e:\n",
    "    raise RuntimeError(f\"Error al realizar predicciones: {e}\")\n",
    "\n",
    "# Calcular métricas de evaluación\n",
    "try:\n",
    "    print(\"Métricas de evaluación:\")\n",
    "    print(classification_report(y_test, y_pred))\n",
    "    print(f\"Accuracy: {accuracy_score(y_test, y_pred):.2f}\")\n",
    "except Exception as e:\n",
    "    raise RuntimeError(f\"Error al calcular métricas de evaluación: {e}\")"
   ]
  }
 ],
 "metadata": {
  "kernelspec": {
   "display_name": ".venv",
   "language": "python",
   "name": "python3"
  },
  "language_info": {
   "codemirror_mode": {
    "name": "ipython",
    "version": 3
   },
   "file_extension": ".py",
   "mimetype": "text/x-python",
   "name": "python",
   "nbconvert_exporter": "python",
   "pygments_lexer": "ipython3",
   "version": "3.11.7"
  }
 },
 "nbformat": 4,
 "nbformat_minor": 2
}
